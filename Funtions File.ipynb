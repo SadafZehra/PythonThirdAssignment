{
 "cells": [
  {
   "cell_type": "markdown",
   "metadata": {},
   "source": [
    "# Args,Keywords"
   ]
  },
  {
   "cell_type": "code",
   "execution_count": null,
   "metadata": {},
   "outputs": [],
   "source": [
    "def car(model,year):#Its a positional argument\n",
    "    print(model,year)"
   ]
  },
  {
   "cell_type": "code",
   "execution_count": null,
   "metadata": {},
   "outputs": [],
   "source": [
    "car(\"corolla\",2019)"
   ]
  },
  {
   "cell_type": "code",
   "execution_count": null,
   "metadata": {},
   "outputs": [],
   "source": [
    "car(2019,\"toyota\")"
   ]
  },
  {
   "cell_type": "code",
   "execution_count": null,
   "metadata": {},
   "outputs": [],
   "source": [
    "car(year=2018,model=\"toyota\")"
   ]
  },
  {
   "cell_type": "code",
   "execution_count": null,
   "metadata": {},
   "outputs": [],
   "source": [
    "def name(fname,lname):\n",
    "    print(f\"first name : {fname}\")\n",
    "    print(f\"last name : {lname}\")"
   ]
  },
  {
   "cell_type": "code",
   "execution_count": null,
   "metadata": {},
   "outputs": [],
   "source": [
    "name(\"bajii\",\"Sadaf\")"
   ]
  },
  {
   "cell_type": "code",
   "execution_count": null,
   "metadata": {},
   "outputs": [],
   "source": [
    "name(fname=\"Sadaf\",lname=\"Zehra\")#position does not matter"
   ]
  },
  {
   "cell_type": "code",
   "execution_count": null,
   "metadata": {},
   "outputs": [],
   "source": [
    "name(lname=\"Zehra\",fname=\"Sadaf\")"
   ]
  },
  {
   "cell_type": "code",
   "execution_count": null,
   "metadata": {},
   "outputs": [],
   "source": [
    "def name(fname,lname,mname):\n",
    "    print(f\"first name: {fname}\")\n",
    "    print(f\"middle name: {mname}\")\n",
    "    print(f\"last name: {lname}\")"
   ]
  },
  {
   "cell_type": "code",
   "execution_count": null,
   "metadata": {},
   "outputs": [],
   "source": [
    "name(\"Sadaf\",mname=\"Aijaz\",\"Hussain\")"
   ]
  },
  {
   "cell_type": "markdown",
   "metadata": {},
   "source": [
    "## Keyword argument aur iss ka parameter function may dono last may atay haen"
   ]
  },
  {
   "cell_type": "code",
   "execution_count": null,
   "metadata": {},
   "outputs": [],
   "source": [
    "name(\"Sadaf\",\"Hussain\",mname=\"Aijaz\")"
   ]
  },
  {
   "cell_type": "markdown",
   "metadata": {},
   "source": [
    "###Arbitrary Number of arguments "
   ]
  },
  {
   "cell_type": "code",
   "execution_count": null,
   "metadata": {},
   "outputs": [],
   "source": [
    "def pizza(size,flavour,*toppings):#* use for unlimited elements\n",
    "    print(size,flavour)\n",
    "    print(toppings)"
   ]
  },
  {
   "cell_type": "code",
   "execution_count": null,
   "metadata": {},
   "outputs": [],
   "source": [
    "pizza(\"large\",\"chicken fajita\",\"extra cheese\",\"olives\")"
   ]
  },
  {
   "cell_type": "code",
   "execution_count": null,
   "metadata": {},
   "outputs": [],
   "source": [
    "pizza(\"large\",\"chicken fajita\")"
   ]
  },
  {
   "cell_type": "code",
   "execution_count": null,
   "metadata": {},
   "outputs": [],
   "source": [
    "pizza(\"large\",\"chicken fajita\",\"extra cheese\")#\",\" explain in output that more than one value exsist in tuple"
   ]
  },
  {
   "cell_type": "code",
   "execution_count": null,
   "metadata": {},
   "outputs": [],
   "source": [
    "def pizza1(size,flavour,*toppings):#* use for unlimited elements\n",
    "    print(f\"The size of pizza is {size} ,the flavour of pizza is {flavour} and the topping is {toppings}.\")\n",
    "pizza1(\"Regular\",\"chiken tikka\",\"olives\")          "
   ]
  },
  {
   "cell_type": "code",
   "execution_count": null,
   "metadata": {},
   "outputs": [],
   "source": [
    "def car(make,model,**specs):#\"**\" it use for keyword argument\n",
    "    print(make,model)\n",
    "    print(specs)"
   ]
  },
  {
   "cell_type": "code",
   "execution_count": null,
   "metadata": {},
   "outputs": [],
   "source": [
    "car(\"toyota\",\"pirus\",transmission=\"Atomatic\")"
   ]
  },
  {
   "cell_type": "code",
   "execution_count": null,
   "metadata": {},
   "outputs": [],
   "source": [
    "car(\"toyota\",\"pirus\",transmission=\"Atomatic\",power=\"Yes\")"
   ]
  },
  {
   "cell_type": "markdown",
   "metadata": {},
   "source": [
    "#### Functions as a variable"
   ]
  },
  {
   "cell_type": "code",
   "execution_count": null,
   "metadata": {},
   "outputs": [],
   "source": [
    "def add(c,d):\n",
    "    a = c + d\n",
    "    return a"
   ]
  },
  {
   "cell_type": "code",
   "execution_count": null,
   "metadata": {},
   "outputs": [],
   "source": [
    "def sub(c,d):\n",
    "    a = c-d\n",
    "    return a"
   ]
  },
  {
   "cell_type": "code",
   "execution_count": null,
   "metadata": {},
   "outputs": [],
   "source": [
    "result = add(2,2) + sub(9,5)\n",
    "print (result)"
   ]
  },
  {
   "cell_type": "code",
   "execution_count": 16,
   "metadata": {},
   "outputs": [],
   "source": [
    "def name(fname):\n",
    "    return fname\n"
   ]
  },
  {
   "cell_type": "code",
   "execution_count": 17,
   "metadata": {},
   "outputs": [],
   "source": [
    "def name1(lname):\n",
    "    return lname"
   ]
  },
  {
   "cell_type": "code",
   "execution_count": 18,
   "metadata": {},
   "outputs": [
    {
     "name": "stdout",
     "output_type": "stream",
     "text": [
      "sadafZehra\n"
     ]
    }
   ],
   "source": [
    "a = (str)(name(\"sadaf\") + name1(\"Zehra\"))\n",
    "print (a)"
   ]
  },
  {
   "cell_type": "code",
   "execution_count": 19,
   "metadata": {},
   "outputs": [
    {
     "name": "stdout",
     "output_type": "stream",
     "text": [
      "sadafZehra\n"
     ]
    }
   ],
   "source": [
    "b = name(\"sadaf\") + name1(\"Zehra\")\n",
    "print (b)"
   ]
  },
  {
   "cell_type": "code",
   "execution_count": null,
   "metadata": {},
   "outputs": [],
   "source": []
  },
  {
   "cell_type": "code",
   "execution_count": null,
   "metadata": {},
   "outputs": [],
   "source": []
  },
  {
   "cell_type": "code",
   "execution_count": null,
   "metadata": {},
   "outputs": [],
   "source": []
  },
  {
   "cell_type": "markdown",
   "metadata": {},
   "source": [
    "##### While loop"
   ]
  },
  {
   "cell_type": "code",
   "execution_count": null,
   "metadata": {},
   "outputs": [],
   "source": [
    "a = 0\n",
    "while a<10:#loop run when condition is true\n",
    "    print(a)\n",
    "    a=a+1"
   ]
  },
  {
   "cell_type": "code",
   "execution_count": null,
   "metadata": {},
   "outputs": [],
   "source": [
    "for a in range(10):\n",
    "    print(a)"
   ]
  },
  {
   "cell_type": "code",
   "execution_count": 8,
   "metadata": {},
   "outputs": [
    {
     "name": "stdout",
     "output_type": "stream",
     "text": [
      "Enter a topping a\n",
      "Enter a topping b\n",
      "Enter a topping c\n",
      "Enter a topping d\n",
      "Enter a topping e\n",
      "e\n"
     ]
    }
   ],
   "source": [
    "for b in range(5):\n",
    "    toppings = input(\"Enter a topping \")\n",
    "print(toppings)    "
   ]
  },
  {
   "cell_type": "code",
   "execution_count": null,
   "metadata": {
    "scrolled": true
   },
   "outputs": [],
   "source": []
  },
  {
   "cell_type": "code",
   "execution_count": 3,
   "metadata": {},
   "outputs": [
    {
     "name": "stdout",
     "output_type": "stream",
     "text": [
      "Enter a topping a\n",
      "Enter a topping b\n",
      "Enter a topping c\n",
      "Enter a topping d\n",
      "Enter a topping e\n",
      "['a', 'b', 'c', 'd', 'e']\n"
     ]
    }
   ],
   "source": [
    "topping =  []\n",
    "for b in range(5):\n",
    "    toppings = input(\"Enter a topping \")\n",
    "    topping.append(toppings)\n",
    "print(topping)    "
   ]
  },
  {
   "cell_type": "code",
   "execution_count": 6,
   "metadata": {},
   "outputs": [
    {
     "name": "stdout",
     "output_type": "stream",
     "text": [
      "Enter a topping a\n",
      "Enter a topping b\n",
      "Enter a topping c\n",
      "Enter a topping d\n",
      "Enter a topping q\n",
      "False\n"
     ]
    }
   ],
   "source": [
    "toppings = []\n",
    "flag = True\n",
    "while flag:\n",
    "    topping = input(\"Enter a topping \")\n",
    "    toppings.append(topping)\n",
    "    if topping == \"q\":\n",
    "        flag = False\n",
    "print(flag)"
   ]
  },
  {
   "cell_type": "code",
   "execution_count": 11,
   "metadata": {},
   "outputs": [
    {
     "name": "stdout",
     "output_type": "stream",
     "text": [
      "Enter a topping a\n",
      "Enter a topping b\n",
      "Enter a topping c\n",
      "Enter a topping d\n",
      "Enter a topping q\n",
      "['a', 'b', 'c', 'd']\n"
     ]
    }
   ],
   "source": [
    "toppings = []\n",
    "flag = True\n",
    "while flag:\n",
    "    topping = input(\"Enter a topping \")\n",
    "    toppings.append(topping)\n",
    "    if topping == \"q\":\n",
    "        flag = False\n",
    "x = toppings.pop()        \n",
    "print(toppings)"
   ]
  },
  {
   "cell_type": "code",
   "execution_count": 12,
   "metadata": {},
   "outputs": [
    {
     "name": "stdout",
     "output_type": "stream",
     "text": [
      "Enter a topping a\n",
      "Enter a topping b\n",
      "Enter a topping c\n",
      "Enter a topping q\n",
      "False\n"
     ]
    }
   ],
   "source": [
    " toppings = []\n",
    "flag = True\n",
    "while flag:\n",
    "    topping = input(\"Enter a topping \")\n",
    "    toppings.append(topping)\n",
    "    if topping == \"q\":\n",
    "        flag = False\n",
    "x = toppings.pop()        \n",
    "print(flag)"
   ]
  },
  {
   "cell_type": "code",
   "execution_count": null,
   "metadata": {},
   "outputs": [],
   "source": [
    "available_flavours = [\"Fajita\",\"Tikka\",\"Mexican\"]\n",
    "available_size = [\"Regular\",\"Large\",\"Medium\",\"Extra Large\"]\n",
    "available_toppings = [\"Olives\",\"Cheese\",\"Hurbs\"]\n",
    "print(\"Pizza Order\")\n",
    "print()\n",
    "print()\n",
    "flag = True\n",
    "while flag:\n",
    "    print(available_flavours)\n",
    "    size = input(\"Enter pizza size \")\n",
    "    "
   ]
  },
  {
   "cell_type": "code",
   "execution_count": null,
   "metadata": {},
   "outputs": [],
   "source": []
  }
 ],
 "metadata": {
  "kernelspec": {
   "display_name": "Python 3",
   "language": "python",
   "name": "python3"
  },
  "language_info": {
   "codemirror_mode": {
    "name": "ipython",
    "version": 3
   },
   "file_extension": ".py",
   "mimetype": "text/x-python",
   "name": "python",
   "nbconvert_exporter": "python",
   "pygments_lexer": "ipython3",
   "version": "3.7.3"
  }
 },
 "nbformat": 4,
 "nbformat_minor": 2
}
