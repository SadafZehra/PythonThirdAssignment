{
 "cells": [
  {
   "cell_type": "code",
   "execution_count": 1,
   "metadata": {},
   "outputs": [
    {
     "name": "stdout",
     "output_type": "stream",
     "text": [
      "5\n"
     ]
    }
   ],
   "source": [
    "print(2+3)\n"
   ]
  },
  {
   "cell_type": "markdown",
   "metadata": {},
   "source": [
    "# IF: start indent ,and statement in this written in a same type line\n"
   ]
  },
  {
   "cell_type": "code",
   "execution_count": 26,
   "metadata": {},
   "outputs": [
    {
     "name": "stdout",
     "output_type": "stream",
     "text": [
      "if is true\n",
      "if is true\n",
      "if is true\n",
      "if is true\n",
      "if is true\n"
     ]
    }
   ],
   "source": [
    "a = 10\n",
    "b = 20\n",
    "if a<b:\n",
    "    print(\"if is true\")\n",
    "    print(\"if is true\")\n",
    "    print(\"if is true\")\n",
    "    print(\"if is true\")\n",
    "    print(\"if is true\")\n",
    "else:\n",
    "    print(\"if is false\")\n",
    "    print(\"if is false\")\n",
    "    print(\"if is false\")\n",
    "    print(\"if is false\")\n",
    "   "
   ]
  },
  {
   "cell_type": "code",
   "execution_count": 27,
   "metadata": {
    "scrolled": true
   },
   "outputs": [
    {
     "name": "stdout",
     "output_type": "stream",
     "text": [
      "if is false\n",
      "if is false\n",
      "if is false\n",
      "if is false\n"
     ]
    }
   ],
   "source": [
    "a = 10\n",
    "b = 20\n",
    "if a>b:\n",
    "    print(\"if is true\")\n",
    "    print(\"if is true\")\n",
    "    print(\"if is true\")\n",
    "    print(\"if is true\")\n",
    "    print(\"if is true\")\n",
    "else:\n",
    "    print(\"if is false\")\n",
    "    print(\"if is false\")\n",
    "    print(\"if is false\")\n",
    "    print(\"if is false\")\n",
    "   "
   ]
  },
  {
   "cell_type": "code",
   "execution_count": 29,
   "metadata": {},
   "outputs": [
    {
     "data": {
      "text/plain": [
       "False"
      ]
     },
     "execution_count": 29,
     "metadata": {},
     "output_type": "execute_result"
    }
   ],
   "source": [
    "a>b"
   ]
  },
  {
   "cell_type": "code",
   "execution_count": 28,
   "metadata": {},
   "outputs": [
    {
     "data": {
      "text/plain": [
       "True"
      ]
     },
     "execution_count": 28,
     "metadata": {},
     "output_type": "execute_result"
    }
   ],
   "source": [
    "a!=b"
   ]
  },
  {
   "cell_type": "code",
   "execution_count": 30,
   "metadata": {},
   "outputs": [
    {
     "data": {
      "text/plain": [
       "True"
      ]
     },
     "execution_count": 30,
     "metadata": {},
     "output_type": "execute_result"
    }
   ],
   "source": [
    "a<b"
   ]
  },
  {
   "cell_type": "code",
   "execution_count": 32,
   "metadata": {},
   "outputs": [
    {
     "name": "stdout",
     "output_type": "stream",
     "text": [
      "if is true\n",
      "if is true\n",
      "if is true\n",
      "if is true\n",
      "if is true\n"
     ]
    }
   ],
   "source": [
    "a = 10\n",
    "b = 20\n",
    "if a<b:\n",
    "    print(\"if is true\")\n",
    "    print(\"if is true\")\n",
    "    print(\"if is true\")\n",
    "    print(\"if is true\")\n",
    "    print(\"if is true\")"
   ]
  },
  {
   "cell_type": "code",
   "execution_count": 12,
   "metadata": {},
   "outputs": [
    {
     "name": "stdout",
     "output_type": "stream",
     "text": [
      "if is true\n",
      "if is true\n",
      "if is true\n",
      "if is true\n",
      "if is true\n"
     ]
    }
   ],
   "source": [
    "a = 10\n",
    "b = 20\n",
    "if a!=b:\n",
    "    print(\"if is true\")\n",
    "    print(\"if is true\")\n",
    "    print(\"if is true\")\n",
    "    print(\"if is true\")\n",
    "    print(\"if is true\")"
   ]
  },
  {
   "cell_type": "code",
   "execution_count": 5,
   "metadata": {},
   "outputs": [],
   "source": [
    "a = 10\n",
    "b = 20\n",
    "if a>b:\n",
    "    print(\"if is true\")\n",
    "    print(\"if is true\")\n",
    "    print(\"if is true\")\n",
    "    print(\"if is true\")\n",
    "    print(\"if is true\")"
   ]
  },
  {
   "cell_type": "code",
   "execution_count": 4,
   "metadata": {
    "scrolled": true
   },
   "outputs": [
    {
     "name": "stdout",
     "output_type": "stream",
     "text": [
      "if block\n"
     ]
    }
   ],
   "source": [
    "a = 10\n",
    "b = 20\n",
    "if a<b:\n",
    "    print(\"if block\")\n",
    "else:\n",
    "    print(\"if not block\")\n",
    "        "
   ]
  },
  {
   "cell_type": "markdown",
   "metadata": {},
   "source": [
    "## by default user input always be string,must do typecasting"
   ]
  },
  {
   "cell_type": "code",
   "execution_count": 1,
   "metadata": {},
   "outputs": [
    {
     "name": "stdout",
     "output_type": "stream",
     "text": [
      "Enter the temperature today40\n",
      "its hot weather today\n"
     ]
    }
   ],
   "source": [
    "temp = int(input(\"Enter the temperature today\"))\n",
    "if temp > 30:\n",
    "    print(\"its hot weather today\")\n",
    "else:\n",
    "    print(\"normal temperature\")"
   ]
  },
  {
   "cell_type": "markdown",
   "metadata": {},
   "source": [
    "### nested if,if one if fail then its not run"
   ]
  },
  {
   "cell_type": "code",
   "execution_count": null,
   "metadata": {},
   "outputs": [],
   "source": [
    "if a<=b:\n",
    "    if a>b:\n",
    "        if a<b:\n",
    "            if a!=b:"
   ]
  },
  {
   "cell_type": "code",
   "execution_count": 9,
   "metadata": {},
   "outputs": [
    {
     "name": "stdout",
     "output_type": "stream",
     "text": [
      "do you have cnic?yes\n",
      "ander chalay jain\n",
      "is my name in list?yes\n",
      "please caste your vote\n"
     ]
    }
   ],
   "source": [
    "cnic = input(\"do you have cnic?\")\n",
    "if cnic=='yes':\n",
    "    print(\"ander chalay jain\")    \n",
    "    nameinlist = input(\"is my name in list?\")\n",
    "    if nameinlist=='yes':\n",
    "        print(\"please caste your vote\")   \n",
    "    else:\n",
    "        print(\"you cant caste vote\")\n",
    "else:\n",
    "        print(\"you cant caste vote\")"
   ]
  },
  {
   "cell_type": "code",
   "execution_count": 10,
   "metadata": {},
   "outputs": [
    {
     "name": "stdout",
     "output_type": "stream",
     "text": [
      "do you have cnic?yes\n",
      "ander chalay jain\n",
      "is my name in list?no\n",
      "you cant caste vote\n"
     ]
    }
   ],
   "source": [
    "cnic = input(\"do you have cnic?\")\n",
    "if cnic=='yes':\n",
    "    print(\"ander chalay jain\")    \n",
    "    nameinlist = input(\"is my name in list?\")\n",
    "    if nameinlist=='yes':\n",
    "        print(\"please caste your vote\")   \n",
    "    else:\n",
    "        print(\"you cant caste vote\")\n",
    "else:\n",
    "        print(\"you cant caste vote\")"
   ]
  },
  {
   "cell_type": "code",
   "execution_count": 11,
   "metadata": {},
   "outputs": [
    {
     "name": "stdout",
     "output_type": "stream",
     "text": [
      "do you have cnic?no\n",
      "you cant caste vote\n"
     ]
    }
   ],
   "source": [
    "cnic = input(\"do you have cnic?\")\n",
    "if cnic=='yes':\n",
    "    print(\"ander chalay jain\")    \n",
    "    nameinlist = input(\"is my name in list?\")\n",
    "    if nameinlist=='yes':\n",
    "        print(\"please caste your vote\")   \n",
    "    else:\n",
    "        print(\"you cant caste vote\")\n",
    "else:\n",
    "        print(\"you cant caste vote\")"
   ]
  },
  {
   "cell_type": "markdown",
   "metadata": {},
   "source": [
    "### if elif else,if one statement is correct the it run and this is opposite of nestedif\n"
   ]
  },
  {
   "cell_type": "code",
   "execution_count": 22,
   "metadata": {},
   "outputs": [
    {
     "name": "stdout",
     "output_type": "stream",
     "text": [
      "Enter your marks :90\n",
      "your marks are 90 and your grade is A*\n"
     ]
    }
   ],
   "source": [
    "marks = int(input(\"Enter your marks :\"))\n",
    "grade = \" \"\n",
    "if marks>=90:\n",
    "    grade = \"A*\"\n",
    "elif marks>=80:\n",
    "        grade = \"A\"\n",
    "elif marks>=70:\n",
    "            grade = \"B\"\n",
    "elif marks>=60:\n",
    "                grade = \"C\"\n",
    "elif marks>=50:\n",
    "                    grade = \"D\"\n",
    "else:\n",
    "    print(\"you are ungraded please try again\")\n",
    "print(f\"your marks are {marks} and your grade is {grade}\")\n",
    "\n",
    "        "
   ]
  },
  {
   "cell_type": "code",
   "execution_count": 23,
   "metadata": {},
   "outputs": [
    {
     "name": "stdout",
     "output_type": "stream",
     "text": [
      "Enter your marks :23\n",
      "you are ungraded please try again\n",
      "your marks are 23 and your grade is  \n"
     ]
    }
   ],
   "source": [
    "marks = int(input(\"Enter your marks :\"))\n",
    "grade = \" \"\n",
    "if marks>=90:\n",
    "    grade = \"A*\"\n",
    "elif marks>=80:\n",
    "        grade = \"A\"\n",
    "elif marks>=70:\n",
    "            grade = \"B\"\n",
    "elif marks>=60:\n",
    "                grade = \"C\"\n",
    "elif marks>=50:\n",
    "                    grade = \"D\"\n",
    "else:\n",
    "    print(\"you are ungraded please try again\")\n",
    "print(f\"your marks are {marks} and your grade is {grade}\")\n"
   ]
  },
  {
   "cell_type": "code",
   "execution_count": 24,
   "metadata": {},
   "outputs": [
    {
     "name": "stdout",
     "output_type": "stream",
     "text": [
      "Enter your marks :75\n",
      "your marks are 75 and your grade is B\n"
     ]
    }
   ],
   "source": [
    "marks = int(input(\"Enter your marks :\"))\n",
    "grade = \" \"\n",
    "if marks>=90:\n",
    "    grade = \"A*\"\n",
    "elif marks>=80:\n",
    "        grade = \"A\"\n",
    "elif marks>=70:\n",
    "            grade = \"B\"\n",
    "elif marks>=60:\n",
    "                grade = \"C\"\n",
    "elif marks>=50:\n",
    "                    grade = \"D\"\n",
    "else:\n",
    "    print(\"you are ungraded please try again\")\n",
    "print(f\"your marks are {marks} and your grade is {grade}\")\n"
   ]
  },
  {
   "cell_type": "code",
   "execution_count": 34,
   "metadata": {},
   "outputs": [
    {
     "name": "stdout",
     "output_type": "stream",
     "text": [
      "Enter your marks :54\n",
      "your marks are 54 and your grade is D\n",
      "your marrks are 54 and your grade is D\n"
     ]
    }
   ],
   "source": [
    "marks = int(input(\"Enter your marks :\"))\n",
    "grade = \" \"\n",
    "if marks>=90:\n",
    "    grade = \"A*\"\n",
    "    print(f\"your marks are {marks} and your grade is {grade}\")\n",
    "elif marks>=80:\n",
    "        grade = \"A\"\n",
    "        print(f\"your marks are {marks} and your grade is {grade}\")\n",
    "elif marks>=70:\n",
    "            grade = \"B\"\n",
    "            print(f\"your marks are {marks} and your grade is {grade}\")\n",
    "elif marks>=60:\n",
    "                grade = \"C\"\n",
    "                print(f\"your marks are {marks} and your grade is {grade}\")\n",
    "elif marks>=50:\n",
    "                    grade = \"D\"\n",
    "                    print(f\"your marks are {marks} and your grade is {grade}\")\n",
    "else:\n",
    "    print(\"you are ungraded please try again\")\n",
    "print(f\"your marks are {marks} and your grade is {grade}\")\n",
    "\n"
   ]
  },
  {
   "cell_type": "code",
   "execution_count": 36,
   "metadata": {},
   "outputs": [
    {
     "name": "stdout",
     "output_type": "stream",
     "text": [
      "Enter your marks :32\n",
      "you are ungraded please try again\n",
      "your marks are 32 and your grade is  \n"
     ]
    }
   ],
   "source": [
    "marks = int(input(\"Enter your marks :\"))\n",
    "grade = \" \"\n",
    "if marks>=90:\n",
    "    grade = \"A*\"\n",
    "    print(f\"your marks are {marks} and your grade is {grade}\")\n",
    "elif marks>=80:\n",
    "        grade = \"A\"\n",
    "        print(f\"your marks are {marks} and your grade is {grade}\")\n",
    "elif marks>=70:\n",
    "            grade = \"B\"\n",
    "            print(f\"your marks are {marks} and your grade is {grade}\")\n",
    "elif marks>=60:\n",
    "                grade = \"C\"\n",
    "                print(f\"your marks are {marks} and your grade is {grade}\")\n",
    "elif marks>=50:\n",
    "                    grade = \"D\"\n",
    "                    print(f\"your marks are {marks} and your grade is {grade}\")\n",
    "else:\n",
    "    print(\"you are ungraded please try again\")\n",
    "print(f\"your marks are {marks} and your grade is {grade}\")\n"
   ]
  },
  {
   "cell_type": "markdown",
   "metadata": {},
   "source": [
    "#### AND OPERATOR(nestedif),OR OPERATOR(elif) ( [Applying comment by  using #],[Applying \"\"\" this comment whole paragraph,Applying ''''''this by selecting whole paragraph])"
   ]
  },
  {
   "cell_type": "code",
   "execution_count": 40,
   "metadata": {},
   "outputs": [
    {
     "name": "stdout",
     "output_type": "stream",
     "text": [
      "do you have cnic?yes\n",
      "is my name in list?yes\n",
      "caste your vote.\n"
     ]
    }
   ],
   "source": [
    "cnic = input(\"do you have cnic?\")\n",
    "# this is cnic no\n",
    "nameinlist = input(\"is my name in list?\")# this is nameinlist\n",
    "                                         #next statement is if\n",
    "if(cnic == 'yes')and (nameinlist =='yes'):\n",
    "    print(\"caste your vote.\")\n",
    "else:\n",
    "    print(\"cant caste your vote.\")\n",
    "    '''this is if'''\n",
    "    '''this jsjkxs,mnxs\n",
    "    sjxkjhckgjjskhksyie\n",
    "    ajjysgdjkjdhkd'''"
   ]
  },
  {
   "cell_type": "markdown",
   "metadata": {},
   "source": [
    "#### By pressing Control,forward slash we can comment line by line but firstly select the all lines"
   ]
  },
  {
   "cell_type": "code",
   "execution_count": null,
   "metadata": {},
   "outputs": [],
   "source": [
    "# cnic = input(\"do you have cnic?\")\n",
    "\n",
    "# nameinlist = input(\"is my name in list?\")\n",
    "                                        \n",
    "# if(cnic == 'yes')and (nameinlist =='yes'):\n",
    "#     print(\"caste your vote.\")\n",
    "# else:\n",
    "#     print(\"cant caste your vote.\")\n",
    "    "
   ]
  },
  {
   "cell_type": "markdown",
   "metadata": {},
   "source": [
    "##### LIST itself is a dataype"
   ]
  },
  {
   "cell_type": "code",
   "execution_count": 2,
   "metadata": {},
   "outputs": [
    {
     "name": "stdout",
     "output_type": "stream",
     "text": [
      "sadaf burair\n"
     ]
    }
   ],
   "source": [
    "students = [\"sadaf\",\"fizza\",\"suwliha\",\"ali\",\"mehreen\",\"burair\"]\n",
    "#index        0        1        2        3      4        5\n",
    "print(students[0],students[5])"
   ]
  },
  {
   "cell_type": "code",
   "execution_count": 50,
   "metadata": {},
   "outputs": [
    {
     "name": "stdout",
     "output_type": "stream",
     "text": [
      "True\n"
     ]
    },
    {
     "data": {
      "text/plain": [
       "['string', 34, 24, 'aijaz', 34.6, True, 'hussain']"
      ]
     },
     "execution_count": 50,
     "metadata": {},
     "output_type": "execute_result"
    }
   ],
   "source": [
    "list1 = [\"string\" , 34,24,34.6,True]\n",
    "print(list1[4])\n",
    "list1.append(\"hussain\")\n",
    "list1\n",
    "list1.insert(3,\"aijaz\")\n",
    "list1"
   ]
  },
  {
   "cell_type": "code",
   "execution_count": 52,
   "metadata": {},
   "outputs": [
    {
     "name": "stdout",
     "output_type": "stream",
     "text": [
      "True\n",
      "34.6\n"
     ]
    },
    {
     "data": {
      "text/plain": [
       "[34, 24, 'aijaz', 34.6, True, 'hussain', 'hussain']"
      ]
     },
     "execution_count": 52,
     "metadata": {},
     "output_type": "execute_result"
    }
   ],
   "source": [
    "list1 = [\"string\" , 34,24,34.6,True]\n",
    "print(list1[4])\n",
    "list1.append(\"hussain\")\n",
    "list1\n",
    "list1.insert(3,\"aijaz\")\n",
    "list1list1 = [\"string\" , 34,24,34.6,True]\n",
    "print(list1[4])\n",
    "list1.append(\"hussain\")\n",
    "list1\n",
    "del list1[0]\n",
    "list1"
   ]
  },
  {
   "cell_type": "code",
   "execution_count": 54,
   "metadata": {},
   "outputs": [
    {
     "name": "stdout",
     "output_type": "stream",
     "text": [
      "True\n"
     ]
    },
    {
     "data": {
      "text/plain": [
       "['string', 34, 'hassan', 'aijaz', 34.6, True, 'hussain']"
      ]
     },
     "execution_count": 54,
     "metadata": {},
     "output_type": "execute_result"
    }
   ],
   "source": [
    "list1 = [\"string\" , 34,24,34.6,True]\n",
    "print(list1[4])\n",
    "list1.append(\"hussain\")\n",
    "list1\n",
    "list1.insert(3,\"aijaz\")\n",
    "list1\n",
    "list1[2]=\"hassan\"\n",
    "list1"
   ]
  },
  {
   "cell_type": "code",
   "execution_count": 5,
   "metadata": {},
   "outputs": [
    {
     "data": {
      "text/plain": [
       "list"
      ]
     },
     "execution_count": 5,
     "metadata": {},
     "output_type": "execute_result"
    }
   ],
   "source": [
    "type(students)"
   ]
  },
  {
   "cell_type": "code",
   "execution_count": 6,
   "metadata": {},
   "outputs": [
    {
     "data": {
      "text/plain": [
       "'suwliha'"
      ]
     },
     "execution_count": 6,
     "metadata": {},
     "output_type": "execute_result"
    }
   ],
   "source": [
    "students[2]"
   ]
  },
  {
   "cell_type": "code",
   "execution_count": 14,
   "metadata": {},
   "outputs": [
    {
     "name": "stdout",
     "output_type": "stream",
     "text": [
      "[23]\n",
      "[23, 255]\n"
     ]
    }
   ],
   "source": [
    "newList = []\n",
    "newList.append(23)\n",
    "print(newList)\n",
    "newList[0]\n",
    "newList.append(255)\n",
    "print(newList)\n",
    "        "
   ]
  },
  {
   "cell_type": "code",
   "execution_count": 29,
   "metadata": {},
   "outputs": [
    {
     "name": "stdout",
     "output_type": "stream",
     "text": [
      "['sadaf zehra', 'hussain', 'hassan', 'hassan']\n"
     ]
    }
   ],
   "source": [
    "newList[0] = \"sadaf zehra\"\n",
    "print(newList)       "
   ]
  },
  {
   "cell_type": "code",
   "execution_count": 32,
   "metadata": {},
   "outputs": [
    {
     "name": "stdout",
     "output_type": "stream",
     "text": [
      "['hussain', 'hassan', 'hassan']\n"
     ]
    }
   ],
   "source": [
    "del newList[0]#this delete function remove permenantly\n",
    "print(newList)"
   ]
  },
  {
   "cell_type": "code",
   "execution_count": 34,
   "metadata": {},
   "outputs": [
    {
     "name": "stdout",
     "output_type": "stream",
     "text": [
      "['hussain', 'hussain', 'hussain', 'hassan', 'hassan']\n"
     ]
    }
   ],
   "source": [
    "#press shift tab in the function bracket\n",
    "newList.insert(1,\"hussain\")\n",
    "print(newList)"
   ]
  },
  {
   "cell_type": "code",
   "execution_count": 35,
   "metadata": {},
   "outputs": [
    {
     "name": "stdout",
     "output_type": "stream",
     "text": [
      "['hussain', 'hussain', 'hussain', 'hassan', 'hassan', 'hassan']\n"
     ]
    }
   ],
   "source": [
    "newList.insert(29,\"hassan\")\n",
    "print(newList)"
   ]
  },
  {
   "cell_type": "code",
   "execution_count": 36,
   "metadata": {},
   "outputs": [
    {
     "data": {
      "text/plain": [
       "3"
      ]
     },
     "execution_count": 36,
     "metadata": {},
     "output_type": "execute_result"
    }
   ],
   "source": [
    "newList.index(\"hassan\")"
   ]
  },
  {
   "cell_type": "code",
   "execution_count": 37,
   "metadata": {},
   "outputs": [
    {
     "name": "stdout",
     "output_type": "stream",
     "text": [
      "['hussain', 'hussain', 'hussain', 'hassan', 'hassan', 'hassan', 'hassan']\n"
     ]
    }
   ],
   "source": [
    "newList.insert(29,\"hassan\")\n",
    "print(newList)"
   ]
  },
  {
   "cell_type": "code",
   "execution_count": 38,
   "metadata": {},
   "outputs": [
    {
     "data": {
      "text/plain": [
       "3"
      ]
     },
     "execution_count": 38,
     "metadata": {},
     "output_type": "execute_result"
    }
   ],
   "source": [
    "newList.index(\"hassan\")"
   ]
  },
  {
   "cell_type": "code",
   "execution_count": 40,
   "metadata": {},
   "outputs": [
    {
     "name": "stdout",
     "output_type": "stream",
     "text": [
      "['hussain', 'hussain', 'hussain', 'hassan', 'hassan']\n"
     ]
    }
   ],
   "source": [
    "newList.remove(\"hassan\")\n",
    "print(newList)"
   ]
  },
  {
   "cell_type": "code",
   "execution_count": 50,
   "metadata": {},
   "outputs": [
    {
     "data": {
      "text/plain": [
       "['karachi', 'Lahore', 'islamabad', 'karachi', 'karachi', 'a']"
      ]
     },
     "execution_count": 50,
     "metadata": {},
     "output_type": "execute_result"
    }
   ],
   "source": [
    "cities = [\"karachi\",\"Lahore\",\"islamabad\"]\n",
    "cities.append(\"karachi\")\n",
    "cities.append(\"karachi\")\n",
    "cities.append(\"a\")\n",
    "cities"
   ]
  },
  {
   "cell_type": "code",
   "execution_count": 43,
   "metadata": {},
   "outputs": [
    {
     "data": {
      "text/plain": [
       "0"
      ]
     },
     "execution_count": 43,
     "metadata": {},
     "output_type": "execute_result"
    }
   ],
   "source": [
    "cities.index(\"karachi\")"
   ]
  },
  {
   "cell_type": "markdown",
   "metadata": {},
   "source": [
    "###### (function)delete by index & (function)remove  by value"
   ]
  },
  {
   "cell_type": "code",
   "execution_count": 46,
   "metadata": {},
   "outputs": [
    {
     "data": {
      "text/plain": [
       "[3, 23, 33, 46, 76, 89, 99]"
      ]
     },
     "execution_count": 46,
     "metadata": {},
     "output_type": "execute_result"
    }
   ],
   "source": [
    "marks = [46,3,76,33,89,99,23]\n",
    "marks.sort()\n",
    "marks"
   ]
  },
  {
   "cell_type": "code",
   "execution_count": 47,
   "metadata": {},
   "outputs": [
    {
     "data": {
      "text/plain": [
       "[99, 89, 76, 46, 33, 23, 3]"
      ]
     },
     "execution_count": 47,
     "metadata": {},
     "output_type": "execute_result"
    }
   ],
   "source": [
    "marks.sort(reverse = True)\n",
    "marks"
   ]
  },
  {
   "cell_type": "code",
   "execution_count": 51,
   "metadata": {},
   "outputs": [
    {
     "data": {
      "text/plain": [
       "['Lahore', 'a', 'islamabad', 'karachi', 'karachi', 'karachi']"
      ]
     },
     "execution_count": 51,
     "metadata": {},
     "output_type": "execute_result"
    }
   ],
   "source": [
    "cities.sort()\n",
    "cities"
   ]
  },
  {
   "cell_type": "code",
   "execution_count": 52,
   "metadata": {},
   "outputs": [
    {
     "data": {
      "text/plain": [
       "['karachi', 'karachi', 'karachi', 'islamabad', 'a', 'Lahore']"
      ]
     },
     "execution_count": 52,
     "metadata": {},
     "output_type": "execute_result"
    }
   ],
   "source": [
    "cities.sort(reverse = True)\n",
    "cities"
   ]
  },
  {
   "cell_type": "code",
   "execution_count": 53,
   "metadata": {},
   "outputs": [
    {
     "data": {
      "text/plain": [
       "['ali', 'burair', 'fizza', 'mehreen', 'sadaf', 'suwliha']"
      ]
     },
     "execution_count": 53,
     "metadata": {},
     "output_type": "execute_result"
    }
   ],
   "source": [
    "students.sort()\n",
    "students"
   ]
  },
  {
   "cell_type": "code",
   "execution_count": 1,
   "metadata": {},
   "outputs": [
    {
     "ename": "TypeError",
     "evalue": "'<' not supported between instances of 'str' and 'int'",
     "output_type": "error",
     "traceback": [
      "\u001b[1;31m---------------------------------------------------------------------------\u001b[0m",
      "\u001b[1;31mTypeError\u001b[0m                                 Traceback (most recent call last)",
      "\u001b[1;32m<ipython-input-1-3bfd73446873>\u001b[0m in \u001b[0;36m<module>\u001b[1;34m\u001b[0m\n\u001b[0;32m      1\u001b[0m \u001b[0mlist1\u001b[0m \u001b[1;33m=\u001b[0m \u001b[1;33m[\u001b[0m\u001b[1;36m1\u001b[0m\u001b[1;33m,\u001b[0m\u001b[1;34m'sadaf'\u001b[0m\u001b[1;33m,\u001b[0m\u001b[1;34m'karachi'\u001b[0m\u001b[1;33m]\u001b[0m\u001b[1;33m\u001b[0m\u001b[1;33m\u001b[0m\u001b[0m\n\u001b[1;32m----> 2\u001b[1;33m \u001b[0mlist1\u001b[0m\u001b[1;33m.\u001b[0m\u001b[0msort\u001b[0m\u001b[1;33m(\u001b[0m\u001b[1;33m)\u001b[0m\u001b[1;31m#sort not support int and string list together\u001b[0m\u001b[1;33m\u001b[0m\u001b[1;33m\u001b[0m\u001b[0m\n\u001b[0m\u001b[0;32m      3\u001b[0m \u001b[0mlist1\u001b[0m\u001b[1;33m\u001b[0m\u001b[1;33m\u001b[0m\u001b[0m\n",
      "\u001b[1;31mTypeError\u001b[0m: '<' not supported between instances of 'str' and 'int'"
     ]
    }
   ],
   "source": [
    "list1 = [1,'sadaf','karachi']\n",
    "list1.sort()#sort not support int and string list together\n",
    "list1"
   ]
  },
  {
   "cell_type": "code",
   "execution_count": 55,
   "metadata": {},
   "outputs": [
    {
     "data": {
      "text/plain": [
       "[99, 89, 76, 46, 33, 23, 3]"
      ]
     },
     "execution_count": 55,
     "metadata": {},
     "output_type": "execute_result"
    }
   ],
   "source": [
    "list2 = marks#its not a copy its a assignment or say it pass by refrence\n",
    "list2"
   ]
  },
  {
   "cell_type": "code",
   "execution_count": 56,
   "metadata": {},
   "outputs": [
    {
     "data": {
      "text/plain": [
       "[99, 89, 46, 33, 23, 3]"
      ]
     },
     "execution_count": 56,
     "metadata": {},
     "output_type": "execute_result"
    }
   ],
   "source": [
    "del marks[2]\n",
    "list2"
   ]
  },
  {
   "cell_type": "code",
   "execution_count": 57,
   "metadata": {},
   "outputs": [
    {
     "data": {
      "text/plain": [
       "[99, 89, 46, 33, 23, 3]"
      ]
     },
     "execution_count": 57,
     "metadata": {},
     "output_type": "execute_result"
    }
   ],
   "source": [
    "list3 = list2.copy()#this function copy the list\n",
    "list2.append(45)\n",
    "list3"
   ]
  },
  {
   "cell_type": "code",
   "execution_count": 58,
   "metadata": {},
   "outputs": [
    {
     "data": {
      "text/plain": [
       "[1, 0, 2, 8, 4, 10, 2]"
      ]
     },
     "execution_count": 58,
     "metadata": {},
     "output_type": "execute_result"
    }
   ],
   "source": [
    "list4 = [2,10,4,8,2,0,1]#only reverse the list not sort it first\n",
    "list4.reverse()\n",
    "list4"
   ]
  },
  {
   "cell_type": "code",
   "execution_count": 59,
   "metadata": {},
   "outputs": [
    {
     "data": {
      "text/plain": [
       "[]"
      ]
     },
     "execution_count": 59,
     "metadata": {},
     "output_type": "execute_result"
    }
   ],
   "source": [
    "list2.clear()\n",
    "list2"
   ]
  },
  {
   "cell_type": "code",
   "execution_count": 60,
   "metadata": {},
   "outputs": [
    {
     "data": {
      "text/plain": [
       "[]"
      ]
     },
     "execution_count": 60,
     "metadata": {},
     "output_type": "execute_result"
    }
   ],
   "source": [
    "marks"
   ]
  },
  {
   "cell_type": "code",
   "execution_count": 61,
   "metadata": {},
   "outputs": [
    {
     "data": {
      "text/plain": [
       "[99, 89, 46, 33, 23, 3]"
      ]
     },
     "execution_count": 61,
     "metadata": {},
     "output_type": "execute_result"
    }
   ],
   "source": [
    "list3"
   ]
  },
  {
   "cell_type": "code",
   "execution_count": 62,
   "metadata": {},
   "outputs": [
    {
     "name": "stdout",
     "output_type": "stream",
     "text": [
      "6\n",
      "[2, 3, 4, 1, 5, 9, 8, 7]\n"
     ]
    }
   ],
   "source": [
    "numbers = [2,3,4,1,5,9,8,7,6]\n",
    "x = numbers.pop()\n",
    "print(x)\n",
    "print(numbers)\n"
   ]
  },
  {
   "cell_type": "code",
   "execution_count": 65,
   "metadata": {},
   "outputs": [
    {
     "name": "stdout",
     "output_type": "stream",
     "text": [
      "7\n",
      "[2, 3, 4, 1, 5, 9, 8]\n"
     ]
    }
   ],
   "source": [
    "\n",
    "x = numbers.pop()\n",
    "print(x)\n",
    "print(numbers)"
   ]
  },
  {
   "cell_type": "code",
   "execution_count": 66,
   "metadata": {},
   "outputs": [
    {
     "name": "stdout",
     "output_type": "stream",
     "text": [
      "8\n",
      "[2, 3, 4, 1, 5, 9]\n"
     ]
    }
   ],
   "source": [
    "\n",
    "x = numbers.pop()\n",
    "print(x)\n",
    "print(numbers)"
   ]
  },
  {
   "cell_type": "code",
   "execution_count": 67,
   "metadata": {},
   "outputs": [
    {
     "name": "stdout",
     "output_type": "stream",
     "text": [
      "9\n",
      "[2, 3, 4, 1, 5]\n"
     ]
    }
   ],
   "source": [
    "\n",
    "x = numbers.pop()\n",
    "print(x)\n",
    "print(numbers)"
   ]
  },
  {
   "cell_type": "code",
   "execution_count": 68,
   "metadata": {},
   "outputs": [
    {
     "name": "stdout",
     "output_type": "stream",
     "text": [
      "5\n",
      "[2, 3, 4, 1]\n"
     ]
    }
   ],
   "source": [
    "\n",
    "x = numbers.pop()\n",
    "print(x)\n",
    "print(numbers)"
   ]
  },
  {
   "cell_type": "code",
   "execution_count": 69,
   "metadata": {},
   "outputs": [
    {
     "name": "stdout",
     "output_type": "stream",
     "text": [
      "1\n",
      "[2, 3, 4]\n"
     ]
    }
   ],
   "source": [
    "\n",
    "x = numbers.pop()\n",
    "print(x)\n",
    "print(numbers)"
   ]
  },
  {
   "cell_type": "code",
   "execution_count": 70,
   "metadata": {},
   "outputs": [
    {
     "name": "stdout",
     "output_type": "stream",
     "text": [
      "4\n",
      "[2, 3]\n"
     ]
    }
   ],
   "source": [
    "\n",
    "x = numbers.pop()\n",
    "print(x)\n",
    "print(numbers)"
   ]
  },
  {
   "cell_type": "code",
   "execution_count": 71,
   "metadata": {},
   "outputs": [
    {
     "name": "stdout",
     "output_type": "stream",
     "text": [
      "3\n",
      "[2]\n"
     ]
    }
   ],
   "source": [
    "\n",
    "x = numbers.pop()\n",
    "print(x)\n",
    "print(numbers)"
   ]
  },
  {
   "cell_type": "code",
   "execution_count": 72,
   "metadata": {},
   "outputs": [
    {
     "name": "stdout",
     "output_type": "stream",
     "text": [
      "2\n",
      "[]\n"
     ]
    }
   ],
   "source": [
    "x = numbers.pop()\n",
    "print(x)\n",
    "print(numbers)"
   ]
  },
  {
   "cell_type": "code",
   "execution_count": 73,
   "metadata": {},
   "outputs": [
    {
     "data": {
      "text/plain": [
       "2"
      ]
     },
     "execution_count": 73,
     "metadata": {},
     "output_type": "execute_result"
    }
   ],
   "source": [
    "x"
   ]
  },
  {
   "cell_type": "code",
   "execution_count": null,
   "metadata": {},
   "outputs": [],
   "source": [
    "number1 = [4,5,6]"
   ]
  },
  {
   "cell_type": "code",
   "execution_count": 81,
   "metadata": {},
   "outputs": [
    {
     "name": "stdout",
     "output_type": "stream",
     "text": [
      "[4, 5]\n",
      "[6]\n"
     ]
    }
   ],
   "source": [
    "number1 = [4,5,6]\n",
    "popedlist=[]\n",
    "poppedElement = number1.pop()\n",
    "popedlist.append(poppedElement)\n",
    "print(number1)\n",
    "print(popedlist)"
   ]
  },
  {
   "cell_type": "code",
   "execution_count": 85,
   "metadata": {},
   "outputs": [
    {
     "name": "stdout",
     "output_type": "stream",
     "text": [
      "[4]\n",
      "[5]\n"
     ]
    }
   ],
   "source": [
    "popedlist=[]\n",
    "poppedElement = number1.pop()\n",
    "popedlist.append(poppedElement)\n",
    "print(number1)\n",
    "print(popedlist)"
   ]
  },
  {
   "cell_type": "code",
   "execution_count": 86,
   "metadata": {},
   "outputs": [
    {
     "name": "stdout",
     "output_type": "stream",
     "text": [
      "[]\n",
      "[4]\n"
     ]
    }
   ],
   "source": [
    "popedlist=[]\n",
    "poppedElement = number1.pop()\n",
    "popedlist.append(poppedElement)\n",
    "print(number1)\n",
    "print(popedlist)"
   ]
  },
  {
   "cell_type": "code",
   "execution_count": 87,
   "metadata": {},
   "outputs": [
    {
     "ename": "IndexError",
     "evalue": "pop from empty list",
     "output_type": "error",
     "traceback": [
      "\u001b[1;31m---------------------------------------------------------------------------\u001b[0m",
      "\u001b[1;31mIndexError\u001b[0m                                Traceback (most recent call last)",
      "\u001b[1;32m<ipython-input-87-88ea5b822c29>\u001b[0m in \u001b[0;36m<module>\u001b[1;34m\u001b[0m\n\u001b[0;32m      1\u001b[0m \u001b[0mpopedlist\u001b[0m\u001b[1;33m=\u001b[0m\u001b[1;33m[\u001b[0m\u001b[1;33m]\u001b[0m\u001b[1;33m\u001b[0m\u001b[1;33m\u001b[0m\u001b[0m\n\u001b[1;32m----> 2\u001b[1;33m \u001b[0mpoppedElement\u001b[0m \u001b[1;33m=\u001b[0m \u001b[0mnumber1\u001b[0m\u001b[1;33m.\u001b[0m\u001b[0mpop\u001b[0m\u001b[1;33m(\u001b[0m\u001b[1;33m)\u001b[0m\u001b[1;33m\u001b[0m\u001b[1;33m\u001b[0m\u001b[0m\n\u001b[0m\u001b[0;32m      3\u001b[0m \u001b[0mpopedlist\u001b[0m\u001b[1;33m.\u001b[0m\u001b[0mappend\u001b[0m\u001b[1;33m(\u001b[0m\u001b[0mpoppedElement\u001b[0m\u001b[1;33m)\u001b[0m\u001b[1;33m\u001b[0m\u001b[1;33m\u001b[0m\u001b[0m\n\u001b[0;32m      4\u001b[0m \u001b[0mprint\u001b[0m\u001b[1;33m(\u001b[0m\u001b[0mnumber1\u001b[0m\u001b[1;33m)\u001b[0m\u001b[1;33m\u001b[0m\u001b[1;33m\u001b[0m\u001b[0m\n\u001b[0;32m      5\u001b[0m \u001b[0mprint\u001b[0m\u001b[1;33m(\u001b[0m\u001b[0mpopedlist\u001b[0m\u001b[1;33m)\u001b[0m\u001b[1;33m\u001b[0m\u001b[1;33m\u001b[0m\u001b[0m\n",
      "\u001b[1;31mIndexError\u001b[0m: pop from empty list"
     ]
    }
   ],
   "source": [
    "popedlist=[]\n",
    "poppedElement = number1.pop()\n",
    "popedlist.append(poppedElement)\n",
    "print(number1)\n",
    "print(popedlist)"
   ]
  },
  {
   "cell_type": "code",
   "execution_count": null,
   "metadata": {},
   "outputs": [],
   "source": [
    "if len(number4)!=0:\n",
    "    poppedlist1 = []\n",
    "    poppedlist1 = poppedlist1.append(number4.pop())\n",
    "    print(poppedlist1)\n",
    "    \n",
    "else:\n",
    "    print(\"list is empty\")"
   ]
  },
  {
   "cell_type": "code",
   "execution_count": null,
   "metadata": {},
   "outputs": [],
   "source": []
  },
  {
   "cell_type": "code",
   "execution_count": null,
   "metadata": {},
   "outputs": [],
   "source": []
  },
  {
   "cell_type": "code",
   "execution_count": null,
   "metadata": {},
   "outputs": [],
   "source": []
  },
  {
   "cell_type": "code",
   "execution_count": 97,
   "metadata": {},
   "outputs": [
    {
     "name": "stdout",
     "output_type": "stream",
     "text": [
      "list is empty\n"
     ]
    }
   ],
   "source": [
    "if len(number2)!=0:\n",
    "    poppedlist1 = []\n",
    "    poppedlist1.append(number2.pop())\n",
    "    print(poppedlist1)\n",
    "else:\n",
    "    print(\"list is empty\")"
   ]
  },
  {
   "cell_type": "code",
   "execution_count": 108,
   "metadata": {},
   "outputs": [
    {
     "data": {
      "text/plain": [
       "[1, 2, ['sadaf', 'zehra']]"
      ]
     },
     "execution_count": 108,
     "metadata": {},
     "output_type": "execute_result"
    }
   ],
   "source": [
    "list5 = [1,2,[\"sadaf\",\"zehra\"]]\n",
    "list5"
   ]
  },
  {
   "cell_type": "code",
   "execution_count": 112,
   "metadata": {},
   "outputs": [
    {
     "data": {
      "text/plain": [
       "'zehra'"
      ]
     },
     "execution_count": 112,
     "metadata": {},
     "output_type": "execute_result"
    }
   ],
   "source": [
    "list5[2][1]\n"
   ]
  },
  {
   "cell_type": "code",
   "execution_count": 132,
   "metadata": {},
   "outputs": [
    {
     "data": {
      "text/plain": [
       "[23,\n",
       " 89,\n",
       " 3,\n",
       " ['ali', 'burair', 'fizza', 'mehreen', 'sadaf', 'suwliha'],\n",
       " [1, 2, ['sadaf', 'zehra']],\n",
       " 'abcd']"
      ]
     },
     "execution_count": 132,
     "metadata": {},
     "output_type": "execute_result"
    }
   ],
   "source": [
    "abc = [23,89,3,students,list5,\"abcd\"]\n",
    "abc"
   ]
  },
  {
   "cell_type": "code",
   "execution_count": 133,
   "metadata": {},
   "outputs": [
    {
     "data": {
      "text/plain": [
       "[23,\n",
       " 89,\n",
       " 3,\n",
       " ['ali', 'burair', 'fizza', 'mehreen', 'sadaf', 'suwliha'],\n",
       " [1, 2, ['zehra']],\n",
       " 'abcd']"
      ]
     },
     "execution_count": 133,
     "metadata": {},
     "output_type": "execute_result"
    }
   ],
   "source": [
    "abc[4][2].remove(\"sadaf\")\n",
    "abc"
   ]
  },
  {
   "cell_type": "code",
   "execution_count": 148,
   "metadata": {},
   "outputs": [
    {
     "data": {
      "text/plain": [
       "[23,\n",
       " 89,\n",
       " 3,\n",
       " ['burair', 'fizza', 'mehreen', 'sadaf', 'suwliha'],\n",
       " [1, 2, ['zehra']],\n",
       " 'abcd']"
      ]
     },
     "execution_count": 148,
     "metadata": {},
     "output_type": "execute_result"
    }
   ],
   "source": [
    "del abc[3][0]\n",
    "abc"
   ]
  },
  {
   "cell_type": "code",
   "execution_count": null,
   "metadata": {},
   "outputs": [],
   "source": []
  },
  {
   "cell_type": "code",
   "execution_count": null,
   "metadata": {},
   "outputs": [],
   "source": []
  },
  {
   "cell_type": "markdown",
   "metadata": {},
   "source": [
    "Slicing"
   ]
  },
  {
   "cell_type": "code",
   "execution_count": 151,
   "metadata": {},
   "outputs": [
    {
     "data": {
      "text/plain": [
       "[1, 2, 3, 4]"
      ]
     },
     "execution_count": 151,
     "metadata": {},
     "output_type": "execute_result"
    }
   ],
   "source": [
    "#index    -4 -3 -2 -1\n",
    "numbers =[1,2,3,4]\n",
    "numbers"
   ]
  },
  {
   "cell_type": "code",
   "execution_count": 152,
   "metadata": {},
   "outputs": [
    {
     "data": {
      "text/plain": [
       "4"
      ]
     },
     "execution_count": 152,
     "metadata": {},
     "output_type": "execute_result"
    }
   ],
   "source": [
    "numbers[-1]"
   ]
  },
  {
   "cell_type": "code",
   "execution_count": 153,
   "metadata": {},
   "outputs": [
    {
     "data": {
      "text/plain": [
       "[2, 3]"
      ]
     },
     "execution_count": 153,
     "metadata": {},
     "output_type": "execute_result"
    }
   ],
   "source": [
    "numbers[1:3]#3 is not included"
   ]
  },
  {
   "cell_type": "code",
   "execution_count": 154,
   "metadata": {},
   "outputs": [
    {
     "data": {
      "text/plain": [
       "[2, 3, 4]"
      ]
     },
     "execution_count": 154,
     "metadata": {},
     "output_type": "execute_result"
    }
   ],
   "source": [
    "numbers[1:4]#we are passing the range"
   ]
  },
  {
   "cell_type": "code",
   "execution_count": 12,
   "metadata": {},
   "outputs": [
    {
     "data": {
      "text/plain": [
       "[2, 4, 5, 6, 7, 8]"
      ]
     },
     "execution_count": 12,
     "metadata": {},
     "output_type": "execute_result"
    }
   ],
   "source": [
    "numbers1 = [2,4,5,6,7,8]\n",
    "numbers1[1:4:2]#take two step its not a gap ,2 step hae yahan \n",
    "numbers1\n"
   ]
  },
  {
   "cell_type": "code",
   "execution_count": 13,
   "metadata": {},
   "outputs": [
    {
     "data": {
      "text/plain": [
       "[2, 5, 7]"
      ]
     },
     "execution_count": 13,
     "metadata": {},
     "output_type": "execute_result"
    }
   ],
   "source": [
    "numbers1[::2]\n"
   ]
  },
  {
   "cell_type": "code",
   "execution_count": 15,
   "metadata": {},
   "outputs": [
    {
     "data": {
      "text/plain": [
       "[2, 4, 5]"
      ]
     },
     "execution_count": 15,
     "metadata": {},
     "output_type": "execute_result"
    }
   ],
   "source": [
    "numbers1[:3]"
   ]
  },
  {
   "cell_type": "code",
   "execution_count": 16,
   "metadata": {},
   "outputs": [
    {
     "data": {
      "text/plain": [
       "[5, 6, 7, 8]"
      ]
     },
     "execution_count": 16,
     "metadata": {},
     "output_type": "execute_result"
    }
   ],
   "source": [
    "numbers1[2:]"
   ]
  },
  {
   "cell_type": "code",
   "execution_count": 18,
   "metadata": {},
   "outputs": [
    {
     "data": {
      "text/plain": [
       "[]"
      ]
     },
     "execution_count": 18,
     "metadata": {},
     "output_type": "execute_result"
    }
   ],
   "source": [
    "numbers1[7:4]"
   ]
  },
  {
   "cell_type": "code",
   "execution_count": 21,
   "metadata": {},
   "outputs": [
    {
     "data": {
      "text/plain": [
       "[4, 5, 6, 7]"
      ]
     },
     "execution_count": 21,
     "metadata": {},
     "output_type": "execute_result"
    }
   ],
   "source": [
    "numbers1[-5:-1]"
   ]
  },
  {
   "cell_type": "code",
   "execution_count": 37,
   "metadata": {},
   "outputs": [
    {
     "data": {
      "text/plain": [
       "[]"
      ]
     },
     "execution_count": 37,
     "metadata": {},
     "output_type": "execute_result"
    }
   ],
   "source": [
    "numbers1[-1:-5]"
   ]
  },
  {
   "cell_type": "code",
   "execution_count": 23,
   "metadata": {},
   "outputs": [
    {
     "data": {
      "text/plain": [
       "[8, 7, 6, 5]"
      ]
     },
     "execution_count": 23,
     "metadata": {},
     "output_type": "execute_result"
    }
   ],
   "source": [
    "numbers1[-1:-5:-1]"
   ]
  },
  {
   "cell_type": "code",
   "execution_count": 28,
   "metadata": {},
   "outputs": [
    {
     "data": {
      "text/plain": [
       "[]"
      ]
     },
     "execution_count": 28,
     "metadata": {},
     "output_type": "execute_result"
    }
   ],
   "source": [
    "numbers1[-5:0]"
   ]
  },
  {
   "cell_type": "code",
   "execution_count": 41,
   "metadata": {},
   "outputs": [
    {
     "data": {
      "text/plain": [
       "[4, 5, 6, 7, 8]"
      ]
     },
     "execution_count": 41,
     "metadata": {},
     "output_type": "execute_result"
    }
   ],
   "source": [
    "numbers1[-5:]"
   ]
  },
  {
   "cell_type": "code",
   "execution_count": null,
   "metadata": {},
   "outputs": [],
   "source": []
  },
  {
   "cell_type": "code",
   "execution_count": null,
   "metadata": {},
   "outputs": [],
   "source": []
  },
  {
   "cell_type": "code",
   "execution_count": null,
   "metadata": {},
   "outputs": [],
   "source": []
  },
  {
   "cell_type": "code",
   "execution_count": null,
   "metadata": {},
   "outputs": [],
   "source": []
  },
  {
   "cell_type": "code",
   "execution_count": 4,
   "metadata": {},
   "outputs": [
    {
     "data": {
      "text/plain": [
       "[1, 2, 3, 4, 5, 6, 7, 8, 9]"
      ]
     },
     "execution_count": 4,
     "metadata": {},
     "output_type": "execute_result"
    }
   ],
   "source": [
    "numbers1 = [1,2,3,4,5,6,7,8,9]\n",
    "numbers1[2:7:2]\n",
    "numbers1"
   ]
  }
 ],
 "metadata": {
  "kernelspec": {
   "display_name": "Python 3",
   "language": "python",
   "name": "python3"
  },
  "language_info": {
   "codemirror_mode": {
    "name": "ipython",
    "version": 3
   },
   "file_extension": ".py",
   "mimetype": "text/x-python",
   "name": "python",
   "nbconvert_exporter": "python",
   "pygments_lexer": "ipython3",
   "version": "3.7.3"
  }
 },
 "nbformat": 4,
 "nbformat_minor": 2
}
