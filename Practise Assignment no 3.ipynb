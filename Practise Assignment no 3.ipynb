{
 "cells": [
  {
   "cell_type": "markdown",
   "metadata": {},
   "source": [
    "# Q1:"
   ]
  },
  {
   "cell_type": "markdown",
   "metadata": {},
   "source": [
    "Think of at least three kinds of your favorite pizza. Store these pizza names in a list, and then use a for loop to print the name of each pizza."
   ]
  },
  {
   "cell_type": "code",
   "execution_count": 8,
   "metadata": {},
   "outputs": [
    {
     "name": "stdout",
     "output_type": "stream",
     "text": [
      "Chicken Fajita\n",
      "Arabian Green\n",
      "Malai Boti\n"
     ]
    }
   ],
   "source": [
    "list = [\"Chicken Fajita\",\"Arabian Green\",\"Malai Boti\"]\n",
    "for b in list:    \n",
    "    print (b)"
   ]
  },
  {
   "cell_type": "code",
   "execution_count": null,
   "metadata": {},
   "outputs": [],
   "source": []
  },
  {
   "cell_type": "code",
   "execution_count": null,
   "metadata": {},
   "outputs": [],
   "source": []
  },
  {
   "cell_type": "markdown",
   "metadata": {},
   "source": [
    "# Q2"
   ]
  },
  {
   "cell_type": "markdown",
   "metadata": {},
   "source": [
    "Start with your last question , Modify your for loop to print a sentence using the name of the pizza\n",
    "instead of printing just the name of the pizza. For each pizza you should\n",
    "have one line of output containing a simple statement like I like pepperoni\n",
    "pizza."
   ]
  },
  {
   "cell_type": "code",
   "execution_count": 9,
   "metadata": {},
   "outputs": [
    {
     "name": "stdout",
     "output_type": "stream",
     "text": [
      "I like Chicken Fajita pizza.\n",
      "I like Arabian Green pizza.\n",
      "I like Malai Boti pizza.\n"
     ]
    }
   ],
   "source": [
    "list = [\"Chicken Fajita\",\"Arabian Green\",\"Malai Boti\"]\n",
    "for b in list:    \n",
    "    print (f\"I like {b} pizza.\")"
   ]
  },
  {
   "cell_type": "code",
   "execution_count": null,
   "metadata": {},
   "outputs": [],
   "source": []
  },
  {
   "cell_type": "code",
   "execution_count": null,
   "metadata": {},
   "outputs": [],
   "source": []
  },
  {
   "cell_type": "markdown",
   "metadata": {},
   "source": [
    "# Q3:"
   ]
  },
  {
   "cell_type": "markdown",
   "metadata": {},
   "source": [
    "Use a for loop to print the numbers from 1 to 20,\n",
    "inclusive."
   ]
  },
  {
   "cell_type": "code",
   "execution_count": 12,
   "metadata": {},
   "outputs": [
    {
     "name": "stdout",
     "output_type": "stream",
     "text": [
      "1\n",
      "2\n",
      "3\n",
      "4\n",
      "5\n",
      "6\n",
      "7\n",
      "8\n",
      "9\n",
      "10\n",
      "11\n",
      "12\n",
      "13\n",
      "14\n",
      "15\n",
      "16\n",
      "17\n",
      "18\n",
      "19\n",
      "20\n"
     ]
    }
   ],
   "source": [
    "for b in range(1,21):\n",
    "    print(b)"
   ]
  },
  {
   "cell_type": "code",
   "execution_count": null,
   "metadata": {},
   "outputs": [],
   "source": []
  },
  {
   "cell_type": "code",
   "execution_count": null,
   "metadata": {},
   "outputs": [],
   "source": []
  },
  {
   "cell_type": "markdown",
   "metadata": {},
   "source": [
    "# Q4:"
   ]
  },
  {
   "cell_type": "markdown",
   "metadata": {},
   "source": [
    "Use the third argument of the range() function to make a list\n",
    "of the odd numbers from 1 to 20. Use a for loop to print each number."
   ]
  },
  {
   "cell_type": "code",
   "execution_count": 16,
   "metadata": {},
   "outputs": [
    {
     "name": "stdout",
     "output_type": "stream",
     "text": [
      "1\n",
      "3\n",
      "5\n",
      "7\n",
      "9\n",
      "11\n",
      "13\n",
      "15\n",
      "17\n",
      "19\n"
     ]
    }
   ],
   "source": [
    "for odd in range(1,20,2) :    \n",
    "    print (odd)"
   ]
  },
  {
   "cell_type": "code",
   "execution_count": null,
   "metadata": {},
   "outputs": [],
   "source": []
  },
  {
   "cell_type": "code",
   "execution_count": null,
   "metadata": {},
   "outputs": [],
   "source": []
  },
  {
   "cell_type": "markdown",
   "metadata": {},
   "source": [
    "# Q5:"
   ]
  },
  {
   "cell_type": "markdown",
   "metadata": {},
   "source": [
    "Make a list of the multiples of 3 from 3 to 30. Use a for loop to\n",
    "print the numbers in your list."
   ]
  },
  {
   "cell_type": "code",
   "execution_count": 19,
   "metadata": {},
   "outputs": [
    {
     "name": "stdout",
     "output_type": "stream",
     "text": [
      "3\n",
      "6\n",
      "9\n",
      "12\n",
      "15\n",
      "18\n",
      "21\n",
      "24\n",
      "27\n",
      "30\n"
     ]
    }
   ],
   "source": [
    "for mut in range(1,11):    \n",
    "    print (mut*3)"
   ]
  },
  {
   "cell_type": "code",
   "execution_count": null,
   "metadata": {},
   "outputs": [],
   "source": []
  },
  {
   "cell_type": "code",
   "execution_count": null,
   "metadata": {},
   "outputs": [],
   "source": []
  },
  {
   "cell_type": "code",
   "execution_count": null,
   "metadata": {},
   "outputs": [],
   "source": []
  },
  {
   "cell_type": "markdown",
   "metadata": {},
   "source": [
    "# Q6:"
   ]
  },
  {
   "cell_type": "markdown",
   "metadata": {},
   "source": [
    "A number raised to the third power is called a cube. For example,\n",
    "the cube of 2 is written as 2**3 in Python. Make a list of the first 10 cubes (that\n",
    "is, the cube of each integer from 1 through 10), and use a for loop to print out\n",
    "the value of each cube"
   ]
  },
  {
   "cell_type": "code",
   "execution_count": 20,
   "metadata": {},
   "outputs": [
    {
     "name": "stdout",
     "output_type": "stream",
     "text": [
      "1\n",
      "8\n",
      "27\n",
      "64\n",
      "125\n",
      "216\n",
      "343\n",
      "512\n",
      "729\n",
      "1000\n"
     ]
    }
   ],
   "source": [
    "for c in range(1,11):\n",
    "    print(c**3)"
   ]
  },
  {
   "cell_type": "code",
   "execution_count": null,
   "metadata": {},
   "outputs": [],
   "source": []
  },
  {
   "cell_type": "code",
   "execution_count": null,
   "metadata": {},
   "outputs": [],
   "source": []
  },
  {
   "cell_type": "code",
   "execution_count": null,
   "metadata": {},
   "outputs": [],
   "source": []
  },
  {
   "cell_type": "markdown",
   "metadata": {},
   "source": [
    "# Q7:"
   ]
  },
  {
   "cell_type": "markdown",
   "metadata": {},
   "source": [
    "###### Make a python program that conatains your nine favourite dishes in a list called foods.\n",
    "\n",
    "###### Print the message, The first three items in the list are:. \n",
    "###### Then use a slice to print the first three items from that program’s list.\n",
    "\n",
    "###### Print the message, Three items from the middle of the list are:\n",
    "###### Use a slice to print three items from the middle of the list.\n",
    "\n",
    "###### Print the message, The last three items in the list are:\n",
    "###### Use a slice to print the last three items in the list."
   ]
  },
  {
   "cell_type": "code",
   "execution_count": 31,
   "metadata": {},
   "outputs": [
    {
     "name": "stdout",
     "output_type": "stream",
     "text": [
      "The first three items in the list are ['Biryani', 'Pizza', 'Nihari']\n",
      "The middle three items in the list are ['BBQ', 'ZingerBurger', 'Pasta']\n",
      "The last three items in the list are ['Beef Pulao', 'Chinese Rice', 'Haleem']\n"
     ]
    }
   ],
   "source": [
    "foods = [\"Biryani\",\"Pizza\",\"Nihari\",\"BBQ\",\"ZingerBurger\",\"Pasta\",\"Beef Pulao\",\"Chinese Rice\",\"Haleem\"]\n",
    "print(\"The first three items in the list are\",foods[0:3])\n",
    "print(\"The middle three items in the list are\",foods[3:6])\n",
    "print(\"The last three items in the list are\",foods[6:])"
   ]
  },
  {
   "cell_type": "code",
   "execution_count": null,
   "metadata": {},
   "outputs": [],
   "source": []
  },
  {
   "cell_type": "code",
   "execution_count": null,
   "metadata": {},
   "outputs": [],
   "source": []
  },
  {
   "cell_type": "code",
   "execution_count": null,
   "metadata": {},
   "outputs": [],
   "source": []
  },
  {
   "cell_type": "code",
   "execution_count": null,
   "metadata": {},
   "outputs": [],
   "source": []
  },
  {
   "cell_type": "code",
   "execution_count": null,
   "metadata": {},
   "outputs": [],
   "source": []
  },
  {
   "cell_type": "code",
   "execution_count": null,
   "metadata": {},
   "outputs": [],
   "source": []
  },
  {
   "cell_type": "markdown",
   "metadata": {},
   "source": [
    "# Q8:"
   ]
  },
  {
   "cell_type": "markdown",
   "metadata": {},
   "source": [
    "### Start with your program from your last Question8.\n",
    "###### Make a copy of the list of foods, and call it friend_foods.\n",
    "###### Then, do the following:\n",
    "######    Add a new dish to the original list.\n",
    "######    Add a different dish to the list friend_foodss.\n",
    "######    Prove that you have two separate lists. \n",
    "###### Print the message, My favorite pizzas are: and then use a for loop to print the first list. \n",
    "###### Print the message,\n",
    "###### My friend’s favorite foods are:, and then use a for loop to print the second list.\n",
    "    \n",
    "##### NOTE: Make sure each new dish is stored in the appropriate list."
   ]
  },
  {
   "cell_type": "code",
   "execution_count": 50,
   "metadata": {},
   "outputs": [
    {
     "name": "stdout",
     "output_type": "stream",
     "text": [
      "['Biryani', 'Pizza', 'Nihari', 'BBQ', 'ZingerBurger', 'Pasta', 'Beef Pulao', 'Chinese Rice', 'Haleem']\n",
      "['Biryani', 'Pizza', 'Nihari', 'BBQ', 'ZingerBurger', 'Pasta', 'Beef Pulao', 'Chinese Rice', 'Haleem']\n"
     ]
    }
   ],
   "source": [
    "foods = [\"Biryani\",\"Pizza\",\"Nihari\",\"BBQ\",\"ZingerBurger\",\"Pasta\",\"Beef Pulao\",\"Chinese Rice\",\"Haleem\"]\n",
    "Friend_foods = foods.copy()\n",
    "print(Friend_foods)\n",
    "print(foods)\n"
   ]
  },
  {
   "cell_type": "code",
   "execution_count": 51,
   "metadata": {},
   "outputs": [
    {
     "name": "stdout",
     "output_type": "stream",
     "text": [
      "['Biryani', 'Pizza', 'Nihari', 'BBQ', 'ZingerBurger', 'Pasta', 'Beef Pulao', 'Chinese Rice', 'Haleem', 'Cake']\n",
      "['Biryani', 'Pizza', 'Nihari', 'BBQ', 'ZingerBurger', 'Pasta', 'Beef Pulao', 'Chinese Rice', 'Haleem', 'Kheer']\n"
     ]
    }
   ],
   "source": [
    "foods.append(\"Kheer\")\n",
    "Friend_foods.append(\"Cake\")\n",
    "print(Friend_foods)\n",
    "print(foods)"
   ]
  },
  {
   "cell_type": "code",
   "execution_count": 52,
   "metadata": {},
   "outputs": [
    {
     "name": "stdout",
     "output_type": "stream",
     "text": [
      "My favourite foods are Biryani\n",
      "My favourite foods are Pizza\n",
      "My favourite foods are Nihari\n",
      "My favourite foods are BBQ\n",
      "My favourite foods are ZingerBurger\n",
      "My favourite foods are Pasta\n",
      "My favourite foods are Beef Pulao\n",
      "My favourite foods are Chinese Rice\n",
      "My favourite foods are Haleem\n",
      "My favourite foods are Kheer\n"
     ]
    }
   ],
   "source": [
    "for b in foods:\n",
    "    print(\"My favourite foods are\",b)"
   ]
  },
  {
   "cell_type": "code",
   "execution_count": 53,
   "metadata": {},
   "outputs": [
    {
     "name": "stdout",
     "output_type": "stream",
     "text": [
      "My friend favourite foods are Biryani\n",
      "My friend favourite foods are Pizza\n",
      "My friend favourite foods are Nihari\n",
      "My friend favourite foods are BBQ\n",
      "My friend favourite foods are ZingerBurger\n",
      "My friend favourite foods are Pasta\n",
      "My friend favourite foods are Beef Pulao\n",
      "My friend favourite foods are Chinese Rice\n",
      "My friend favourite foods are Haleem\n",
      "My friend favourite foods are Cake\n"
     ]
    }
   ],
   "source": [
    "for c in Friends_foods:\n",
    "    print(\"My friend favourite foods are\",c)"
   ]
  },
  {
   "cell_type": "code",
   "execution_count": null,
   "metadata": {},
   "outputs": [],
   "source": []
  },
  {
   "cell_type": "code",
   "execution_count": null,
   "metadata": {},
   "outputs": [],
   "source": [
    " "
   ]
  },
  {
   "cell_type": "code",
   "execution_count": null,
   "metadata": {},
   "outputs": [],
   "source": []
  },
  {
   "cell_type": "markdown",
   "metadata": {},
   "source": [
    "# Q9:"
   ]
  },
  {
   "cell_type": "markdown",
   "metadata": {},
   "source": [
    "Take a user input from console line.Store it in a variable called Alien_color.\n",
    "\n",
    "If the alien’s color is red, print a statement that the player just earned 5 points for shooting the alien.\n",
    "\n",
    "If the alien’s color isn’t green, print a statement that the player just earned 10 points.\n",
    "\n",
    "If the alien's color isn't red or green , print a statment :, Alien is no more....."
   ]
  },
  {
   "cell_type": "code",
   "execution_count": 11,
   "metadata": {},
   "outputs": [
    {
     "name": "stdout",
     "output_type": "stream",
     "text": [
      "Enter Alien Color red\n",
      "The player just earned 5 points for shooting the alien.\n"
     ]
    }
   ],
   "source": [
    "Alien_color = input(\"Enter Alien Color \")\n",
    "if Alien_color == \"red\":\n",
    "    print(\"The player just earned 5 points for shooting the alien.\")\n",
    "elif Alien_color !=\"green\":\n",
    "    print(\"The player just earned 10 points for shooting the alien.\")\n",
    "elif (Alien_color !=\"green\")or(Alien_color !=\"red\"):\n",
    "    print(\"Alien is no more.\")\n"
   ]
  },
  {
   "cell_type": "code",
   "execution_count": 12,
   "metadata": {},
   "outputs": [
    {
     "name": "stdout",
     "output_type": "stream",
     "text": [
      "Enter Alien Color orange\n",
      "The player just earned 10 points for shooting the alien.\n"
     ]
    }
   ],
   "source": [
    "Alien_color = input(\"Enter Alien Color \")\n",
    "if Alien_color == \"red\":\n",
    "    print(\"The player just earned 5 points for shooting the alien.\")\n",
    "elif Alien_color !=\"green\":\n",
    "    print(\"The player just earned 10 points for shooting the alien.\")\n",
    "elif (Alien_color !=\"green\")or(Alien_color !=\"red\"):\n",
    "    print(\"Alien is no more.\")\n",
    "\n"
   ]
  },
  {
   "cell_type": "code",
   "execution_count": 13,
   "metadata": {},
   "outputs": [
    {
     "name": "stdout",
     "output_type": "stream",
     "text": [
      "Enter Alien Color green\n",
      "Alien is no more.\n"
     ]
    }
   ],
   "source": [
    "Alien_color = input(\"Enter Alien Color \")\n",
    "if Alien_color == \"red\":\n",
    "    print(\"The player just earned 5 points for shooting the alien.\")\n",
    "elif Alien_color !=\"green\":\n",
    "    print(\"The player just earned 10 points for shooting the alien.\")\n",
    "elif (Alien_color !=\"green\")or(Alien_color !=\"red\"):\n",
    "    print(\"Alien is no more.\")\n"
   ]
  },
  {
   "cell_type": "code",
   "execution_count": null,
   "metadata": {},
   "outputs": [],
   "source": []
  },
  {
   "cell_type": "markdown",
   "metadata": {},
   "source": [
    "# Q10:"
   ]
  },
  {
   "cell_type": "markdown",
   "metadata": {},
   "source": [
    "Write an if-elif-else chain that determines a person’s\n",
    "stage of life. Set a value for the variable age, and then:\n",
    "    \n",
    "•\t If the person is less than 2 years old, print a message that the person is a baby.\n",
    "\n",
    "•\t If the person is at least 2 years old but less than 4, print a message that the person is a toddler.\n",
    "\n",
    "•\t If the person is at least 4 years old but less than 13, print a message that the person is a kid.\n",
    "\n",
    "•\t If the person is at least 13 years old but less than 20, print a message that the person is a teenager.\n",
    "\n",
    "•\t If the person is at least 20 years old but less than 65, print a message that the person is an adult.\n",
    "\n",
    "•\t If the person is age 65 or older, print a message that the person is an elder."
   ]
  },
  {
   "cell_type": "code",
   "execution_count": 5,
   "metadata": {},
   "outputs": [
    {
     "name": "stdout",
     "output_type": "stream",
     "text": [
      "Enter person age 1\n",
      "The person is a baby.\n"
     ]
    }
   ],
   "source": [
    "Person_age = int(input(\"Enter person age \"))\n",
    "if Person_age < 2:\n",
    "    print(\"The person is a baby.\")\n",
    "elif (Person_age ==2)or(Person_age < 4):\n",
    "     print(\"The person is a toddler.\")\n",
    "elif (Person_age ==4)or(Person_age < 13):\n",
    "     print(\"The person is a Kid.\")\n",
    "elif (Person_age ==13)or(Person_age < 20):\n",
    "     print(\"The person is a teenager.\")\n",
    "elif (Person_age ==20)or(Person_age < 65):\n",
    "     print(\"The person is an adult.\")\n",
    "elif (Person_age ==65)or(Person_age > 65):\n",
    "     print(\"The person is an elder.\")"
   ]
  },
  {
   "cell_type": "code",
   "execution_count": 6,
   "metadata": {},
   "outputs": [
    {
     "name": "stdout",
     "output_type": "stream",
     "text": [
      "Enter person age 3\n",
      "The person is a toddler.\n"
     ]
    }
   ],
   "source": [
    "Person_age = int(input(\"Enter person age \"))\n",
    "if Person_age < 2:\n",
    "    print(\"The person is a baby.\")\n",
    "elif (Person_age ==2)or(Person_age < 4):\n",
    "     print(\"The person is a toddler.\")\n",
    "elif (Person_age ==4)or(Person_age < 13):\n",
    "     print(\"The person is a Kid.\")\n",
    "elif (Person_age ==13)or(Person_age < 20):\n",
    "     print(\"The person is a teenager.\")\n",
    "elif (Person_age ==20)or(Person_age < 65):\n",
    "     print(\"The person is an adult.\")\n",
    "elif (Person_age ==65)or(Person_age > 65):\n",
    "     print(\"The person is an elder.\")"
   ]
  },
  {
   "cell_type": "code",
   "execution_count": 7,
   "metadata": {},
   "outputs": [
    {
     "name": "stdout",
     "output_type": "stream",
     "text": [
      "Enter person age 12\n",
      "The person is a Kid.\n"
     ]
    }
   ],
   "source": [
    "Person_age = int(input(\"Enter person age \"))\n",
    "if Person_age < 2:\n",
    "    print(\"The person is a baby.\")\n",
    "elif (Person_age ==2)or(Person_age < 4):\n",
    "     print(\"The person is a toddler.\")\n",
    "elif (Person_age ==4)or(Person_age < 13):\n",
    "     print(\"The person is a Kid.\")\n",
    "elif (Person_age ==13)or(Person_age < 20):\n",
    "     print(\"The person is a teenager.\")\n",
    "elif (Person_age ==20)or(Person_age < 65):\n",
    "     print(\"The person is an adult.\")\n",
    "elif (Person_age ==65)or(Person_age > 65):\n",
    "     print(\"The person is an elder.\")"
   ]
  },
  {
   "cell_type": "code",
   "execution_count": 8,
   "metadata": {},
   "outputs": [
    {
     "name": "stdout",
     "output_type": "stream",
     "text": [
      "Enter person age 16\n",
      "The person is a teenager.\n"
     ]
    }
   ],
   "source": [
    "Person_age = int(input(\"Enter person age \"))\n",
    "if Person_age < 2:\n",
    "    print(\"The person is a baby.\")\n",
    "elif (Person_age ==2)or(Person_age < 4):\n",
    "     print(\"The person is a toddler.\")\n",
    "elif (Person_age ==4)or(Person_age < 13):\n",
    "     print(\"The person is a Kid.\")\n",
    "elif (Person_age ==13)or(Person_age < 20):\n",
    "     print(\"The person is a teenager.\")\n",
    "elif (Person_age ==20)or(Person_age < 65):\n",
    "     print(\"The person is an adult.\")\n",
    "elif (Person_age ==65)or(Person_age > 65):\n",
    "     print(\"The person is an elder.\")"
   ]
  },
  {
   "cell_type": "code",
   "execution_count": 9,
   "metadata": {},
   "outputs": [
    {
     "name": "stdout",
     "output_type": "stream",
     "text": [
      "Enter person age 60\n",
      "The person is an adult.\n"
     ]
    }
   ],
   "source": [
    "Person_age = int(input(\"Enter person age \"))\n",
    "if Person_age < 2:\n",
    "    print(\"The person is a baby.\")\n",
    "elif (Person_age ==2)or(Person_age < 4):\n",
    "     print(\"The person is a toddler.\")\n",
    "elif (Person_age ==4)or(Person_age < 13):\n",
    "     print(\"The person is a Kid.\")\n",
    "elif (Person_age ==13)or(Person_age < 20):\n",
    "     print(\"The person is a teenager.\")\n",
    "elif (Person_age ==20)or(Person_age < 65):\n",
    "     print(\"The person is an adult.\")\n",
    "elif (Person_age ==65)or(Person_age > 65):\n",
    "     print(\"The person is an elder.\")"
   ]
  },
  {
   "cell_type": "code",
   "execution_count": 10,
   "metadata": {},
   "outputs": [
    {
     "name": "stdout",
     "output_type": "stream",
     "text": [
      "Enter person age 75\n",
      "The person is an elder.\n"
     ]
    }
   ],
   "source": [
    "Person_age = int(input(\"Enter person age \"))\n",
    "if Person_age < 2:\n",
    "    print(\"The person is a baby.\")\n",
    "elif (Person_age ==2)or(Person_age < 4):\n",
    "     print(\"The person is a toddler.\")\n",
    "elif (Person_age ==4)or(Person_age < 13):\n",
    "     print(\"The person is a Kid.\")\n",
    "elif (Person_age ==13)or(Person_age < 20):\n",
    "     print(\"The person is a teenager.\")\n",
    "elif (Person_age ==20)or(Person_age < 65):\n",
    "     print(\"The person is an adult.\")\n",
    "elif (Person_age ==65)or(Person_age > 65):\n",
    "     print(\"The person is an elder.\")"
   ]
  },
  {
   "cell_type": "markdown",
   "metadata": {},
   "source": [
    "# Q11:"
   ]
  },
  {
   "cell_type": "markdown",
   "metadata": {},
   "source": [
    "Do the following to create a program that simulates how websites ensure that everyone has a unique username.\n",
    "\n",
    "•\t Make a list of five or more usernames called current_users.\n",
    "\n",
    "•\t Make another list of five usernames called new_users. \n",
    "Make sure one or two of the new usernames are also in the current_users list.\n",
    "\n",
    "•\t Loop through the new_users list to see if each new username has already been used. \n",
    "If it has, print a message that the person will need to enter a new username. \n",
    "If a username has not been used, print a message saying that the username is available.\n",
    "\n",
    "•\t Make sure your comparison is case insensitive. If 'John' has been used, 'JOHN' should not be accepted."
   ]
  },
  {
   "cell_type": "code",
   "execution_count": 18,
   "metadata": {},
   "outputs": [
    {
     "name": "stdout",
     "output_type": "stream",
     "text": [
      "The person will need to enter new username.\n",
      "This username is available.\n",
      "The person will need to enter new username.\n",
      "This username is available.\n",
      "This username is available.\n",
      "This username is available.\n"
     ]
    }
   ],
   "source": [
    "current_users =[\"sadaf\",\"fizza\",\"mehreen\",\"aijaz\",\"suwliha\",\"burair\"]\n",
    "new_users = [\"SADAF\",\"amna\",\"fizza\",\"ali\",\"fatima\",\"hassan\"]\n",
    "new_current_users = {a.lower() for a in current_users}\n",
    "for a in new_users:    \n",
    "    if a.lower() in new_current_users:\n",
    "            print(\"The person will need to enter new username.\")            \n",
    "    else:\n",
    "            print(\"This username is available.\")\n",
    "            \n",
    "         "
   ]
  },
  {
   "cell_type": "code",
   "execution_count": 19,
   "metadata": {},
   "outputs": [
    {
     "name": "stdout",
     "output_type": "stream",
     "text": [
      "The person will need to enter new username.\n",
      "This username is available.\n",
      "The person will need to enter new username.\n",
      "This username is available.\n",
      "This username is available.\n",
      "This username is available.\n"
     ]
    }
   ],
   "source": [
    "current_users =[\"sadaf\",\"fizza\",\"mehreen\",\"aijaz\",\"suwliha\",\"burair\"]\n",
    "new_users = [\"SADAF\",\"amna\",\"Fizza\",\"ali\",\"fatima\",\"hassan\"]\n",
    "new_current_users = {a.lower() for a in current_users}\n",
    "for a in new_users:    \n",
    "    if a.lower() in new_current_users:\n",
    "            print(\"The person will need to enter new username.\")            \n",
    "    else:\n",
    "            print(\"This username is available.\")\n",
    "            \n",
    "         "
   ]
  },
  {
   "cell_type": "code",
   "execution_count": 20,
   "metadata": {},
   "outputs": [
    {
     "name": "stdout",
     "output_type": "stream",
     "text": [
      "The person will need to enter new username.\n",
      "This username is available.\n",
      "The person will need to enter new username.\n",
      "This username is available.\n",
      "This username is available.\n",
      "This username is available.\n"
     ]
    }
   ],
   "source": [
    "current_users =[\"Sadaf\",\"fizza\",\"mehreen\",\"aijaz\",\"suwliha\",\"burair\"]\n",
    "new_users = [\"SADAF\",\"amna\",\"fizza\",\"ali\",\"fatima\",\"hassan\"]\n",
    "new_current_users = {a.lower() for a in current_users}\n",
    "for a in new_users:    \n",
    "    if a.lower() in new_current_users:\n",
    "            print(\"The person will need to enter new username.\")            \n",
    "    else:\n",
    "            print(\"This username is available.\")\n",
    "            \n",
    "         "
   ]
  },
  {
   "cell_type": "code",
   "execution_count": 21,
   "metadata": {},
   "outputs": [
    {
     "name": "stdout",
     "output_type": "stream",
     "text": [
      "The person will need to enter new username.\n",
      "This username is available.\n",
      "The person will need to enter new username.\n",
      "This username is available.\n",
      "This username is available.\n",
      "This username is available.\n"
     ]
    }
   ],
   "source": [
    "current_users =[\"sadaf\",\"Fizza\",\"mehreen\",\"aijaz\",\"suwliha\",\"burair\"]\n",
    "new_users = [\"SADAF\",\"amna\",\"fizza\",\"ali\",\"fatima\",\"hassan\"]\n",
    "new_current_users = {a.lower() for a in current_users}\n",
    "for a in new_users:    \n",
    "    if a.lower() in new_current_users:\n",
    "            print(\"The person will need to enter new username.\")            \n",
    "    else:\n",
    "            print(\"This username is available.\")\n",
    "            \n",
    "         "
   ]
  },
  {
   "cell_type": "markdown",
   "metadata": {},
   "source": [
    "# Q12:"
   ]
  },
  {
   "cell_type": "markdown",
   "metadata": {},
   "source": [
    "Use a dictionary to store information about a person you know.\n",
    "Store their first name, last name, age, and the city in which they live. \n",
    "You should have keys such as first_name, last_name, age, and city. \n",
    "Print each piece of information stored in your dictionary"
   ]
  },
  {
   "cell_type": "code",
   "execution_count": 15,
   "metadata": {},
   "outputs": [
    {
     "name": "stdout",
     "output_type": "stream",
     "text": [
      "{'First_Name': 'Sadaf', 'Last_Name': 'Zehra', 'Age': '20', 'City': 'Karachi'}\n"
     ]
    }
   ],
   "source": [
    "dict = {\"First_Name\":\"Sadaf\",\"Last_Name\":\"Zehra\",\"Age\":\"20\",\"City\":\"Karachi\"}\n",
    "print(dict)"
   ]
  },
  {
   "cell_type": "code",
   "execution_count": 27,
   "metadata": {},
   "outputs": [
    {
     "data": {
      "text/plain": [
       "'Sadaf'"
      ]
     },
     "execution_count": 27,
     "metadata": {},
     "output_type": "execute_result"
    }
   ],
   "source": [
    "dict[\"First_Name\"]"
   ]
  },
  {
   "cell_type": "code",
   "execution_count": 28,
   "metadata": {},
   "outputs": [
    {
     "data": {
      "text/plain": [
       "'Zehra'"
      ]
     },
     "execution_count": 28,
     "metadata": {},
     "output_type": "execute_result"
    }
   ],
   "source": [
    "dict[\"Last_Name\"]"
   ]
  },
  {
   "cell_type": "code",
   "execution_count": 31,
   "metadata": {},
   "outputs": [
    {
     "data": {
      "text/plain": [
       "'20'"
      ]
     },
     "execution_count": 31,
     "metadata": {},
     "output_type": "execute_result"
    }
   ],
   "source": [
    "dict[\"Age\"]"
   ]
  },
  {
   "cell_type": "code",
   "execution_count": 33,
   "metadata": {},
   "outputs": [
    {
     "data": {
      "text/plain": [
       "'Karachi'"
      ]
     },
     "execution_count": 33,
     "metadata": {},
     "output_type": "execute_result"
    }
   ],
   "source": [
    "dict[\"City\"]"
   ]
  },
  {
   "cell_type": "markdown",
   "metadata": {},
   "source": [
    "# Q13:"
   ]
  },
  {
   "cell_type": "markdown",
   "metadata": {},
   "source": [
    "Starts with your last question 12 , loop through the dictionary’s keys and values.\n",
    "When you’re sure that your loop works, add five more Python terms to your\n",
    "dictionary . When you run your program again, these new words and meanings\n",
    "should automatically be included in the output."
   ]
  },
  {
   "cell_type": "code",
   "execution_count": 35,
   "metadata": {},
   "outputs": [
    {
     "name": "stdout",
     "output_type": "stream",
     "text": [
      "First_Name Sadaf\n",
      "Last_Name Zehra\n",
      "Age 20\n",
      "City Karachi\n"
     ]
    }
   ],
   "source": [
    "dict = {\"First_Name\":\"Sadaf\",\"Last_Name\":\"Zehra\",\"Age\":\"20\",\"City\":\"Karachi\"}\n",
    "for key,value in dict.items():\n",
    "    print(key,value)"
   ]
  },
  {
   "cell_type": "code",
   "execution_count": 36,
   "metadata": {},
   "outputs": [
    {
     "name": "stdout",
     "output_type": "stream",
     "text": [
      "{'First_Name': 'Sadaf', 'Last_Name': 'Zehra', 'Age': '20', 'City': 'Karachi', 'keyword': 'print', 'Operator': '+', 'Assignment_Operator': '=', 'Logical_Operator': '<', 'Relational_Operator': '&&'}\n"
     ]
    }
   ],
   "source": [
    "dict[\"keyword\"] = \"print\"\n",
    "dict[\"Operator\"] = \"+\"\n",
    "dict[\"Assignment_Operator\"] = \"=\"\n",
    "dict[\"Logical_Operator\"] = \"<\"\n",
    "dict[\"Relational_Operator\"] = \"&&\"\n",
    "print(dict)"
   ]
  },
  {
   "cell_type": "code",
   "execution_count": 37,
   "metadata": {},
   "outputs": [
    {
     "name": "stdout",
     "output_type": "stream",
     "text": [
      "First_Name Sadaf\n",
      "Last_Name Zehra\n",
      "Age 20\n",
      "City Karachi\n",
      "keyword print\n",
      "Operator +\n",
      "Assignment_Operator =\n",
      "Logical_Operator <\n",
      "Relational_Operator &&\n"
     ]
    }
   ],
   "source": [
    "for KEY,VALUE in dict.items():\n",
    "    print(KEY,VALUE)"
   ]
  },
  {
   "cell_type": "code",
   "execution_count": null,
   "metadata": {},
   "outputs": [],
   "source": []
  },
  {
   "cell_type": "code",
   "execution_count": null,
   "metadata": {},
   "outputs": [],
   "source": []
  },
  {
   "cell_type": "markdown",
   "metadata": {},
   "source": [
    "# Q14:"
   ]
  },
  {
   "cell_type": "markdown",
   "metadata": {},
   "source": [
    "Make a dictionary containing three major rivers and the country\n",
    "each river runs through. One key-value pair might be 'nile': 'egypt'.\n",
    "    \n",
    "    \n",
    "•\t Use a loop to print a sentence about each river, such as The Nile runs\n",
    "through Egypt.\n",
    "\n",
    "NOTE: use upper case through keys and values."
   ]
  },
  {
   "cell_type": "code",
   "execution_count": 44,
   "metadata": {},
   "outputs": [
    {
     "name": "stdout",
     "output_type": "stream",
     "text": [
      "The INDUS RIVER runs through PAKISTAN\n",
      "The GOMTI runs through INDIA\n",
      "The NILE runs through EGYPT\n"
     ]
    }
   ],
   "source": [
    "Rivers_dict = {\"Indus River\":\"Pakistan\",\"Gomti\":\"India\",\"Nile\":\"Egypt\"}\n",
    "for key,value in Rivers_dict.items():\n",
    "    c = key.upper()\n",
    "    d = value.upper()\n",
    "    print(f\"The {c} runs through {d}\")"
   ]
  },
  {
   "cell_type": "code",
   "execution_count": null,
   "metadata": {},
   "outputs": [],
   "source": []
  },
  {
   "cell_type": "code",
   "execution_count": null,
   "metadata": {},
   "outputs": [],
   "source": []
  },
  {
   "cell_type": "markdown",
   "metadata": {},
   "source": [
    "# Q15:"
   ]
  },
  {
   "cell_type": "markdown",
   "metadata": {},
   "source": [
    "Make several dictionaries, where the name of each dictionary is the\n",
    "name of a pet. In each dictionary, include the kind of animal and the owner’s\n",
    "name. Store these dictionaries in a list called pets. Next, loop through your list\n",
    "and as you do print everything you know about each pet."
   ]
  },
  {
   "cell_type": "code",
   "execution_count": 50,
   "metadata": {},
   "outputs": [
    {
     "name": "stdout",
     "output_type": "stream",
     "text": [
      "{'Kind': 'Ragdoll', 'Owner_Name': 'Sadaf Zehra'}\n",
      "{'kind': 'American Akita', 'Owner_Name': 'Mehreen Zehra'}\n",
      "{'Kind': 'Rhode Island Red', 'Owner_Name': 'Muhammad Burair'}\n",
      "{'Kind': 'Shorthorn', 'Owner_Name': 'Fizza Zehra'}\n"
     ]
    }
   ],
   "source": [
    "Cat = {\"Kind\":\"Ragdoll\",\"Owner_Name\":\"Sadaf Zehra\"}\n",
    "Dog = {\"kind\":\"American Akita\",\"Owner_Name\":\"Mehreen Zehra\"}\n",
    "Cow = {\"Kind\":\"Shorthorn\",\"Owner_Name\":\"Fizza Zehra\"}\n",
    "Hen = {\"Kind\":\"Rhode Island Red\",\"Owner_Name\":\"Muhammad Burair\"}\n",
    "Pet = [Cat,Dog,Hen,Cow]\n",
    "for a in Pet:\n",
    "    print(a)\n"
   ]
  }
 ],
 "metadata": {
  "kernelspec": {
   "display_name": "Python 3",
   "language": "python",
   "name": "python3"
  },
  "language_info": {
   "codemirror_mode": {
    "name": "ipython",
    "version": 3
   },
   "file_extension": ".py",
   "mimetype": "text/x-python",
   "name": "python",
   "nbconvert_exporter": "python",
   "pygments_lexer": "ipython3",
   "version": "3.7.3"
  }
 },
 "nbformat": 4,
 "nbformat_minor": 2
}
